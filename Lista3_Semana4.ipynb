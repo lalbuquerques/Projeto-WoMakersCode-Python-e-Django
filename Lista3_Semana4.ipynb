{
  "nbformat": 4,
  "nbformat_minor": 0,
  "metadata": {
    "colab": {
      "provenance": [],
      "authorship_tag": "ABX9TyOItJRRseI0snz85oVMSQCf",
      "include_colab_link": true
    },
    "kernelspec": {
      "name": "python3",
      "display_name": "Python 3"
    },
    "language_info": {
      "name": "python"
    }
  },
  "cells": [
    {
      "cell_type": "markdown",
      "metadata": {
        "id": "view-in-github",
        "colab_type": "text"
      },
      "source": [
        "<a href=\"https://colab.research.google.com/github/lalbuquerques/Projeto-WoMakersCode-Python-e-Django/blob/main/Lista3_Semana4.ipynb\" target=\"_parent\"><img src=\"https://colab.research.google.com/assets/colab-badge.svg\" alt=\"Open In Colab\"/></a>"
      ]
    },
    {
      "cell_type": "code",
      "execution_count": null,
      "metadata": {
        "id": "PTSrx7QC4QyC",
        "colab": {
          "base_uri": "https://localhost:8080/"
        },
        "outputId": "866d3849-2739-41c1-ff72-052a6cbc8ede"
      },
      "outputs": [
        {
          "output_type": "stream",
          "name": "stdout",
          "text": [
            "Telefonou para a vítima? Responda com sim ou não: sim\n",
            "Esteve no local do crime? Responda com sim ou não: não\n",
            "Mora perto da vítima? Responda com sim ou não: SIM\n",
            "Devia para a vítima? Responda com sim ou não: sim\n",
            "Já trabalhou com a vítima? Responda com sim ou não: sim\n",
            "Cúmplice\n"
          ]
        }
      ],
      "source": [
        "#Utilizando listas faça um programa que faça 5 perguntas para uma pessoa sobre um crime.\n",
        "#\"\"Telefonou para a vítima?\"\"\n",
        "#\"\"Esteve no local do crime?\"\"\n",
        "#\"\"Mora perto da vítima?\"\"\n",
        "#\"\"Devia para a vítima?\"\"\n",
        "#\"\"Já trabalhou com a vítima?\"\"\n",
        "#O programa deve no final emitir uma classificação sobre a participação da pessoa no crime.\n",
        "#Se a pessoa responder positivamente a 2 questões ela deve ser\n",
        "#classificada como \"\"Suspeita\"\", entre 3 e 4 como \"\"Cúmplice\"\" e 5 como \"\"Assassino\"\".\n",
        "#Caso contrário,ele será classificado como\"\"Inocente\"\".\n",
        "\n",
        "\n",
        "tel = input('Telefonou para a vítima? Responda com sim ou não: ').lower()\n",
        "local = input('Esteve no local do crime? Responda com sim ou não: ').lower()\n",
        "mora = input('Mora perto da vítima? Responda com sim ou não: ').lower()\n",
        "devia = input('Devia para a vítima? Responda com sim ou não: ').lower()\n",
        "trabalho = input('Já trabalhou com a vítima? Responda com sim ou não: ').lower()\n",
        "\n",
        "resposta = [tel, local, mora, devia, trabalho]\n",
        "\n",
        "totalDeSim = resposta.count('sim')\n",
        "\n",
        "if totalDeSim == 2:\n",
        "  print('Suspeito')\n",
        "\n",
        "elif 3 <= totalDeSim <= 4:\n",
        "  print('Cúmplice')\n",
        "\n",
        "elif totalDeSim == 5:\n",
        "  print('Assassino')\n",
        "\n",
        "else:\n",
        "  print('Inocente')"
      ]
    },
    {
      "cell_type": "code",
      "source": [
        "# Faça um Programa que peça as quatro notas de 5 alunos,\n",
        "#calcule e armazene numa lista a média de cada aluno,\n",
        "#imprima o número de alunos com média maior ou igual a 7.0.\n",
        "\n",
        "aluno = 1\n",
        "medias = []\n",
        "media7 = 0\n",
        "\n",
        "while aluno <= 5:\n",
        "  nota1 = float(input(f'Insira a primeira nota do aluno {aluno}: '))\n",
        "  nota2 = float(input(f'Insira a segunda nota do aluno {aluno}: '))\n",
        "  nota3 = float(input(f'Insira a terceira nota do aluno {aluno}: '))\n",
        "  nota4 = float(input(f'Insira a quarta nota do aluno {aluno}: '))\n",
        "  notas = (nota1 + nota2 + nota3 + nota4)/4\n",
        "  medias.append(notas)\n",
        "  aluno +=1\n",
        "\n",
        "for i in medias:\n",
        "  if i >= 7.0:\n",
        "    media7 += 1\n",
        "\n",
        "print(f'O número de alunos com média maior ou igual a 7.0 é: {media7}')\n",
        "\n",
        "\n"
      ],
      "metadata": {
        "id": "EsVL_O0w1qDp",
        "colab": {
          "base_uri": "https://localhost:8080/"
        },
        "collapsed": true,
        "outputId": "85e65f62-db84-4979-fe86-0eac1b3240f0"
      },
      "execution_count": null,
      "outputs": [
        {
          "output_type": "stream",
          "name": "stdout",
          "text": [
            "Insira a primeira nota do aluno 1: 10\n",
            "Insira a segunda nota do aluno 1: 10\n",
            "Insira a terceira nota do aluno 1: 10\n",
            "Insira a quarta nota do aluno 1: 10\n",
            "Insira a primeira nota do aluno 2: 5\n",
            "Insira a segunda nota do aluno 2: 5\n",
            "Insira a terceira nota do aluno 2: 5\n",
            "Insira a quarta nota do aluno 2: 5\n",
            "Insira a primeira nota do aluno 3: 7\n",
            "Insira a segunda nota do aluno 3: 7\n",
            "Insira a terceira nota do aluno 3: 7\n",
            "Insira a quarta nota do aluno 3: 7\n",
            "Insira a primeira nota do aluno 4: 8\n",
            "Insira a segunda nota do aluno 4: 8\n",
            "Insira a terceira nota do aluno 4: 8\n",
            "Insira a quarta nota do aluno 4: 8\n",
            "O número de alunos com média maior ou igual a 7.0 é: 3\n"
          ]
        }
      ]
    },
    {
      "cell_type": "code",
      "source": [
        "#Crie um dicionário representando um carrinho de compras.\n",
        "#Adicione produtos (chaves) e quantidades (valores) ao carrinho.\n",
        "#Calcule o total do carrinho de compra.\n",
        "\n",
        "carrinhoDeCompras = {}\n",
        "totalDoCarrinho = 0\n",
        "\n",
        "print('Para finalizar as compras, digite 0 ao ser solicitado o produto.')\n",
        "\n",
        "while True:\n",
        "  chave = input('Digite o nome do produto: ')\n",
        "  if chave == '0':\n",
        "    break\n",
        "  else:\n",
        "    valor = int(input('Digite a quantidade do produto: '))\n",
        "\n",
        "  carrinhoDeCompras[chave] = valor\n",
        "  totalDoCarrinho = totalDoCarrinho + valor\n",
        "\n",
        "print(f'Carrinho de compras: {carrinhoDeCompras}')\n",
        "print(f'Total de produtos no carrinho: {totalDoCarrinho}')"
      ],
      "metadata": {
        "colab": {
          "base_uri": "https://localhost:8080/"
        },
        "id": "kTQsiVnFzZx5",
        "outputId": "00b46547-61bc-47ce-b5f4-8d02cd9828d0"
      },
      "execution_count": null,
      "outputs": [
        {
          "output_type": "stream",
          "name": "stdout",
          "text": [
            "Para finalizar as compras, digite 0 ao ser solicitado o produto.\n",
            "Digite o nome do produto: coca\n",
            "Digite a quantidade do produto: 10\n",
            "Digite o nome do produto: hamburguer\n",
            "Digite a quantidade do produto: 13\n",
            "Digite o nome do produto: abobora\n",
            "Digite a quantidade do produto: 3\n",
            "Digite o nome do produto: 0\n",
            "Carrinho de compras: {'coca': 10, 'hamburguer': 13, 'abobora': 3}\n",
            "Total de produtos no carrinho: 26\n"
          ]
        }
      ]
    },
    {
      "cell_type": "code",
      "source": [
        "#Crie um dicionário representando contatos (nome, telefone).\n",
        "#Permita ao usuário procurar por um contato pelo nome.\n",
        "\n",
        "#Cria um dicionário com contatos e números de telefone\n",
        "listaTelefonica = {'Yuumi': 21997282624, 'Jinshi': 21966252432, 'Ahri': 11966504223, 'Jinx': 35966789452}\n",
        "\n",
        "#Solicita ao usuário o nome do contato que ele deseja buscar e converte para letras minúsculas.\n",
        "nome = input('Insira o nome de contato que deseja procurar: ').strip().lower()\n",
        "\n",
        "contatoEncontrado = False\n",
        "\n",
        "#Itera sobre as chaves do dicionário\n",
        "for chave in listaTelefonica:\n",
        "  if chave.lower() == nome: #Compara a chave convertida para minúsculo com a entrada do usuário.\n",
        "    print(f'{chave}: {listaTelefonica[chave]}')\n",
        "    contatoEncontrado = True\n",
        "    break\n",
        "\n",
        "#Se o usuário não for encontrado exibe uma mensagem.\n",
        "if not contatoEncontrado:\n",
        "  print('Esse contato não está na lista telefônica.')\n"
      ],
      "metadata": {
        "colab": {
          "base_uri": "https://localhost:8080/"
        },
        "id": "mh92WLCfpeSx",
        "outputId": "4ee5aad4-e9d9-4f21-b31f-a2c8e0a1dc3c"
      },
      "execution_count": null,
      "outputs": [
        {
          "output_type": "stream",
          "name": "stdout",
          "text": [
            "Insira o nome de contato que deseja procurar: ahri\n",
            "Ahri: 11966504223\n"
          ]
        }
      ]
    },
    {
      "cell_type": "code",
      "source": [
        "#Crie duas tuplas. Concatene-as para formar uma nova tupla.\n",
        "\n",
        "tupla1 = (1, 2, 'larissa', [5,6,7])\n",
        "tupla2 = ('brigadeiro', 'pix')\n",
        "tupla3 = tupla1 + tupla2\n",
        "\n",
        "print(tupla3)"
      ],
      "metadata": {
        "colab": {
          "base_uri": "https://localhost:8080/"
        },
        "id": "QKWboFAObx6t",
        "outputId": "268d9940-02e6-4a90-83f7-58c7c2e94cc5"
      },
      "execution_count": null,
      "outputs": [
        {
          "output_type": "stream",
          "name": "stdout",
          "text": [
            "(1, 2, 'larissa', [5, 6, 7], 'brigadeiro', 'pix')\n"
          ]
        }
      ]
    },
    {
      "cell_type": "code",
      "source": [
        "#Faça um programa que permita ao usuário digitar o seu nome e\n",
        "#em seguida mostre o nome do usuário de trás para frente\n",
        "#utilizando somente letras maiúsculas. Dica: lembre−se que ao\n",
        "#informar o nome o usuário pode digitar letras maiúsculas ou minúsculas.\n",
        "\n",
        "nome = input('Insira seu nome: ')\n",
        "\n",
        "nomeInvertido = nome[::-1].upper()\n",
        "\n",
        "print(f'Nome digitado: {nome}')\n",
        "print(f'Nome invertido: {nomeInvertido}')\n"
      ],
      "metadata": {
        "colab": {
          "base_uri": "https://localhost:8080/"
        },
        "id": "hzu4_LpqcR6u",
        "outputId": "e69a0f29-469a-4f9d-e68b-e39fd5a02682"
      },
      "execution_count": null,
      "outputs": [
        {
          "output_type": "stream",
          "name": "stdout",
          "text": [
            "Insira seu nome: larissa\n",
            "Nome digitado: larissa\n",
            "Nome invertido: ASSIRAL\n"
          ]
        }
      ]
    }
  ]
}