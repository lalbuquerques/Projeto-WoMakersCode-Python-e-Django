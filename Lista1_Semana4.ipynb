{
  "nbformat": 4,
  "nbformat_minor": 0,
  "metadata": {
    "colab": {
      "provenance": [],
      "authorship_tag": "ABX9TyOVErLc2jL8CvBBsEumvE0l",
      "include_colab_link": true
    },
    "kernelspec": {
      "name": "python3",
      "display_name": "Python 3"
    },
    "language_info": {
      "name": "python"
    }
  },
  "cells": [
    {
      "cell_type": "markdown",
      "metadata": {
        "id": "view-in-github",
        "colab_type": "text"
      },
      "source": [
        "<a href=\"https://colab.research.google.com/github/lalbuquerques/Projeto-WoMakersCode-Python-e-Django/blob/main/Lista_1.ipynb\" target=\"_parent\"><img src=\"https://colab.research.google.com/assets/colab-badge.svg\" alt=\"Open In Colab\"/></a>"
      ]
    },
    {
      "cell_type": "code",
      "execution_count": null,
      "metadata": {
        "colab": {
          "base_uri": "https://localhost:8080/"
        },
        "id": "REA1mpepEfEo",
        "outputId": "d5d31c87-5dd6-4bb9-eaa7-e621dd328e91"
      },
      "outputs": [
        {
          "output_type": "stream",
          "name": "stdout",
          "text": [
            "Insira o primeiro número: 1\n",
            "Insira o segundo número: 1\n",
            "A soma dos números é 2.0, a subtracao do primeiro pelo segundo número é 0.0, a multiplicação é 1.0 e a divisão do primeiro pelo segundo é 1.0\n"
          ]
        }
      ],
      "source": [
        "#Faça um Programa que peça dois números, realize as principais operações soma, subtração, multiplicação, divisão\n",
        "\n",
        "num1 = float(input('Insira o primeiro número: '))\n",
        "num2 = float(input('Insira o segundo número: '))\n",
        "\n",
        "soma = num1 + num2\n",
        "subtracao = num1 - num2\n",
        "multiplicacao = num1 * num2\n",
        "divisao = num1/num2\n",
        "\n",
        "print(f'A soma dos números é {soma}, a subtracao do primeiro pelo segundo número é {subtracao}, a multiplicação é {multiplicacao} e a divisão do primeiro pelo segundo é {divisao}')"
      ]
    },
    {
      "cell_type": "code",
      "source": [
        "#Peça ao usuário para informar o ano de nascimento. Em seguida, calcule e imprima a idade atual.\n",
        "import datetime\n",
        "from datetime import date\n",
        "\n",
        "anoDeNascimento = int(input('Informe o ano de nascimento: '))\n",
        "anoAtual = date.today().year\n",
        "\n",
        "idadeAtual = anoAtual - anoDeNascimento\n",
        "print(f'Sua idade é {idadeAtual} anos.')"
      ],
      "metadata": {
        "colab": {
          "base_uri": "https://localhost:8080/"
        },
        "id": "i7wmXQCEGDP8",
        "outputId": "9b543da1-2db4-473b-8af0-d6eafd8fe28f"
      },
      "execution_count": null,
      "outputs": [
        {
          "output_type": "stream",
          "name": "stdout",
          "text": [
            "Informe o ano de nascimento: 1997\n",
            "Sua idade é 27 anos.\n"
          ]
        }
      ]
    },
    {
      "cell_type": "code",
      "source": [
        "#Faça um Programa que peça a quantidade de quilômetros, transforme em metros, centímetros e milímetros.\n",
        "\n",
        "km = int(input('Informe a quantidade de km: '))\n",
        "\n",
        "metros = km*1000\n",
        "cm = metros*100\n",
        "mm = cm*100\n",
        "\n",
        "print(f'{km} km é igual a {metros} metros, {cm} cm e  {mm} mm.')\n"
      ],
      "metadata": {
        "colab": {
          "base_uri": "https://localhost:8080/"
        },
        "id": "kz0gCiMkHl2J",
        "outputId": "af3ab7b7-e0f1-425e-f8f9-069d7ee978d4"
      },
      "execution_count": null,
      "outputs": [
        {
          "output_type": "stream",
          "name": "stdout",
          "text": [
            "Informe a quantidade de km: 50\n",
            "50 km é igual a 50000 metros, 5000000 cm e  500000000 mm.\n"
          ]
        }
      ]
    },
    {
      "cell_type": "code",
      "source": [
        "#Receba do usuário a quantidade de litros de combustível consumidos e a distância percorrida. Calcule e imprima o consumo médio em km/l.\n",
        "\n",
        "litros = int(input('Informe a quantidade de litros consumidos: '))\n",
        "distancia = int(input('Informe a distância percorrida em km: '))\n",
        "\n",
        "consumoMedio = distancia/litros\n",
        "print(f'O consumo médio foi de {consumoMedio} km/l')\n"
      ],
      "metadata": {
        "colab": {
          "base_uri": "https://localhost:8080/"
        },
        "id": "pvDqIbGqMY3h",
        "outputId": "7e6b0aa3-eef6-4f32-927a-80db20506135"
      },
      "execution_count": null,
      "outputs": [
        {
          "output_type": "stream",
          "name": "stdout",
          "text": [
            "Informe a quantidade de litros consumidos: 40\n",
            "Informe a distância percorrida: 500\n",
            "O consumo médio foi de 12.5 km/l\n"
          ]
        }
      ]
    },
    {
      "cell_type": "code",
      "source": [
        "#Escreva um programa que calcule o salário líquido. Lembrando de declarar o salário bruto e o percentual de desconto do Imposto de Renda.\n",
        "#● Renda até R$ 1.903,98: isento de imposto de renda;\n",
        "#● Renda entre R$ 1.903,99 e R$ 2.826,65: alíquota de 7,5%;\n",
        "#● Renda entre R$ 2.826,66 e R$ 3.751,05: alíquota de 15%;\n",
        "#● Renda entre R$ 3.751,06 e R$ 4.664,68: alíquota de 22,5%;\n",
        "#● Renda acima de R$ 4.664,68: alíquota máxima de 27,5%.\n",
        "\n",
        "salarioBruto = float(input('Informe o salário bruto: '))\n",
        "\n",
        "while salarioBruto <= 0:\n",
        "  print('Salario inválido, favor inserir um valor maior do que 0.')\n",
        "  salarioBruto = float(input('Informe o salário bruto: '))\n",
        "\n",
        "if salarioBruto <= 1903.98:\n",
        "  print(f'Isento de imposto de renda. O salário líquido é R$ {salarioBruto}.')\n",
        "\n",
        "elif salarioBruto > 1903.98 and salarioBruto <= 2826.65:\n",
        "  aliquota = (salarioBruto*7.5)/100\n",
        "  salarioLiquido = salarioBruto - aliquota\n",
        "  print(f'A alíquota do Imposto de Renda é 7,5%. O salário líquido é R$ {salarioLiquido}.')\n",
        "\n",
        "elif salarioBruto > 2826.65 and salarioBruto <= 3751.05:\n",
        "  aliquota = (salarioBruto*15)/100\n",
        "  salarioLiquido = salarioBruto - aliquota\n",
        "  print(f'A alíquota do Imposto de Renda é 15%. O salário líquido é R$ {salarioLiquido}.')\n",
        "\n",
        "elif salarioBruto > 3751.05 and salarioBruto <= 4664.68:\n",
        "  aliquota = (salarioBruto*22.5)/100\n",
        "  salarioLiquido = salarioBruto - aliquota\n",
        "  print(f'A alíquota do Imposto de Renda é 22,5%. O salário líquido é R$ {salarioLiquido}.')\n",
        "\n",
        "else:\n",
        "  aliquota = (salarioBruto*27.5)/100\n",
        "  salarioLiquido = salarioBruto - aliquota\n",
        "  print(f'A alíquota do Imposto de Renda é 27,5%. O salário líquido é R$ {salarioLiquido}.')\n"
      ],
      "metadata": {
        "id": "mDWY6iL1PtaW",
        "colab": {
          "base_uri": "https://localhost:8080/"
        },
        "outputId": "4c682039-7fa3-418c-eb57-2df08fc9dba1"
      },
      "execution_count": null,
      "outputs": [
        {
          "output_type": "stream",
          "name": "stdout",
          "text": [
            "Informe o salário bruto: 1000\n",
            "Isento de imposto de renda. O salário líquido é R$ 1000.0.\n"
          ]
        }
      ]
    },
    {
      "cell_type": "code",
      "source": [
        "#Escreva um programa que calcule o tempo de uma viagem. Faça um comparativo do mesmo percurso de avião, carro e ônibus. Levando em consideração:\n",
        "#● avião = 600 km/h\n",
        "#● carro = 100 km/h\n",
        "#● ônibus = 80 km/h\n",
        "\n",
        "distancia = int(input('Informe a distância da viagem: '))\n",
        "\n",
        "aviao = distancia/600\n",
        "carro = distancia/100\n",
        "onibus = distancia/80\n",
        "\n",
        "print(f'O tempo de viagem de avião é de {aviao} horas, de carro é de {carro} horas e de ônibus é de {onibus} horas.')"
      ],
      "metadata": {
        "colab": {
          "base_uri": "https://localhost:8080/"
        },
        "id": "vfXYFEqIcTGv",
        "outputId": "9af31bfa-7cc7-4bc7-d2ac-c5373f86c0e6"
      },
      "execution_count": null,
      "outputs": [
        {
          "output_type": "stream",
          "name": "stdout",
          "text": [
            "Informe a distância da viagem: 3000\n",
            "O tempo de viagem de avião é de 5.0 horas, de carro é de 30.0 horas e de ônibus é de 37.5 horas.\n"
          ]
        }
      ]
    },
    {
      "cell_type": "code",
      "source": [
        "#Solicite ao usuário o peso em kg e a altura em metros. Calcule e imprima o Índice de Massa Corporal (IMC) usando a fórmula:\n",
        "#IMC = peso / (altura x altura).\n",
        "\n",
        "peso = float(input('Informe seu peso em kg: '))\n",
        "altura = float(input('Informe sua altura em metros: '))\n",
        "\n",
        "imc = peso/(altura**2)\n",
        "\n",
        "print(f'Seu IMC é: {imc}.')"
      ],
      "metadata": {
        "colab": {
          "base_uri": "https://localhost:8080/"
        },
        "id": "ZzCvVOfweOmP",
        "outputId": "9081ca60-4b15-4728-9b28-c99ff386c5ad"
      },
      "execution_count": null,
      "outputs": [
        {
          "output_type": "stream",
          "name": "stdout",
          "text": [
            "Informe seu peso em kg: 50\n",
            "Informe sua altura em metros: 1.63\n",
            "Seu IMC é: 18.818924310286427.\n"
          ]
        }
      ]
    },
    {
      "cell_type": "code",
      "source": [
        "#Faça um Programa que pergunte quanto você ganha por hora e o número de horas trabalhadas no mês. Calcule e mostre o total do seu salário no referido mês.\n",
        "\n",
        "salarioHora = float(input('Informe seu salário por hora: '))\n",
        "horasTrabalhadas = int(input('Informe as horas trabalhadas: '))\n",
        "\n",
        "salario = salarioHora*horasTrabalhadas\n",
        "\n",
        "print(f'Seu salário nesse mês é de R$ {salario}')"
      ],
      "metadata": {
        "colab": {
          "base_uri": "https://localhost:8080/"
        },
        "id": "kCpCAhwLfDzs",
        "outputId": "a9ad070e-3204-40e8-ba34-4a99347bb9a5"
      },
      "execution_count": null,
      "outputs": [
        {
          "output_type": "stream",
          "name": "stdout",
          "text": [
            "Informe seu salário por hora: 10\n",
            "Informe as horas trabalhadas: 110\n",
            "Seu salário nesse mês é de R$ 1100.0\n"
          ]
        }
      ]
    },
    {
      "cell_type": "code",
      "source": [
        "#Solicite ao usuário o número de horas de exercício físico por semana. Calcule o total de calorias queimadas em um mês, considerando uma média de 5 calorias por minuto de exercício.\n",
        "\n",
        "horaSemana = int(input('Informe a quanidade de horas que realizou exercícios por semana: '))\n",
        "\n",
        "horaMes = horaSemana*4\n",
        "minutoMes = horaMes*60\n",
        "caloriaMes = minutoMes*5\n",
        "\n",
        "print(f'A quantidade de calorias queimadas no mês foram de {caloriaMes} calorias.')"
      ],
      "metadata": {
        "colab": {
          "base_uri": "https://localhost:8080/"
        },
        "id": "_jurZF4lg3N_",
        "outputId": "5f1b4c2d-3588-4ade-a393-eb1c2f30e8fa"
      },
      "execution_count": null,
      "outputs": [
        {
          "output_type": "stream",
          "name": "stdout",
          "text": [
            "Informe a quanidade de horas que realizou exercícios por semana: 8\n",
            "A quantidade de calorias queimadas no mês foram de 9600 calorias.\n"
          ]
        }
      ]
    },
    {
      "cell_type": "code",
      "source": [
        "#Faça um Programa que utilize 4 variáveis como preferir e no final print uma mensagem amigável utilizando as variáveis criadas.\n",
        "#Exemplos de variáveis: nome, idade, lugar, profissão ....\n",
        "#Exemplo de retorno: Olá Maria, prazer te conhecer. Sou de São Paulo também e estou migrando de área.\n",
        "\n",
        "nome = input('Qual o seu nome? ')\n",
        "jogo = input('Qual o seu jogo favorito? ')\n",
        "curso = input('Qual o seu curso? ')\n",
        "periodo = input('Em qual período você está? ')\n",
        "\n",
        "print(f'Olá, {nome}! Eu também curso {curso} e estou no primeiro período. Eu amo {jogo}, vamos jogar qualquer dia?')"
      ],
      "metadata": {
        "colab": {
          "base_uri": "https://localhost:8080/"
        },
        "id": "4DkyV1A8ibrQ",
        "outputId": "4d9b2669-23b2-4823-995a-4e9b78a8d421"
      },
      "execution_count": null,
      "outputs": [
        {
          "output_type": "stream",
          "name": "stdout",
          "text": [
            "Qual o seu nome? Larissa\n",
            "Qual o seu jogo favorito? lol\n",
            "Qual o seu curso? ADS\n",
            "Em qual período você está?2\n",
            "Olá, Larissa! Eu também curso ADS e estou no primeiro período. Eu amo lol, vamos jogar qualquer dia?\n"
          ]
        }
      ]
    }
  ]
}
