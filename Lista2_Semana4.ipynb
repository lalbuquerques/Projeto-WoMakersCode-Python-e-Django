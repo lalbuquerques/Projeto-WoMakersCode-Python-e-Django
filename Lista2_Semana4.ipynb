{
  "nbformat": 4,
  "nbformat_minor": 0,
  "metadata": {
    "colab": {
      "provenance": [],
      "authorship_tag": "ABX9TyPQG7sbsZqLalq0csHsTLci",
      "include_colab_link": true
    },
    "kernelspec": {
      "name": "python3",
      "display_name": "Python 3"
    },
    "language_info": {
      "name": "python"
    }
  },
  "cells": [
    {
      "cell_type": "markdown",
      "metadata": {
        "id": "view-in-github",
        "colab_type": "text"
      },
      "source": [
        "<a href=\"https://colab.research.google.com/github/lalbuquerques/Projeto-WoMakersCode-Python-e-Django/blob/main/Lista2_Semana4.ipynb\" target=\"_parent\"><img src=\"https://colab.research.google.com/assets/colab-badge.svg\" alt=\"Open In Colab\"/></a>"
      ]
    },
    {
      "cell_type": "code",
      "execution_count": null,
      "metadata": {
        "colab": {
          "base_uri": "https://localhost:8080/"
        },
        "id": "51NMmZfhkECO",
        "outputId": "c671335d-8726-40d6-92bf-44d6c781de19"
      },
      "outputs": [
        {
          "output_type": "stream",
          "name": "stdout",
          "text": [
            "Informe um número inteiro: 2\n",
            "Informe mais um número inteiro: 1\n",
            "O maior número é: 2\n"
          ]
        }
      ],
      "source": [
        "#Faça um Programa que peça dois números e imprima o maior deles.\n",
        "\n",
        "num1 = int(input('Informe um número inteiro: '))\n",
        "num2 = int(input('Informe mais um número inteiro: '))\n",
        "\n",
        "if num1 > num2: print(f'O maior número é:' ,num1)\n",
        "if num2 > num1: print(f'O maior número é:' ,num2)\n",
        "if num1 == num2: print('Os números são iguais.')"
      ]
    },
    {
      "cell_type": "code",
      "source": [
        "#Faça um Programa que pergunte em que turno você estuda.\n",
        "#Peça para digitar M-matutino ou V-Vespertino ou N- Noturno. Imprima a mensagem \"Bom Dia!\", \"Boa Tarde!\" ou \"Boa Noite!\" ou \"Valor Inválido!\".\n",
        "\n",
        "turno = input('Informe o turno que você estuda (M - Matutino, V - Vespertino, N - Noturno): ').strip().lower()\n",
        "\n",
        "if turno == 'm':\n",
        "    print('Bom Dia!')\n",
        "elif turno == 'v':\n",
        "    print('Boa Tarde!')\n",
        "elif turno == 'n':\n",
        "    print('Boa Noite!')\n",
        "else:\n",
        "    print('Valor inválido.')\n"
      ],
      "metadata": {
        "colab": {
          "base_uri": "https://localhost:8080/"
        },
        "id": "KfuAU_LJq3dv",
        "outputId": "e156de77-90bd-4f69-ac7d-19b5a859091a"
      },
      "execution_count": null,
      "outputs": [
        {
          "output_type": "stream",
          "name": "stdout",
          "text": [
            "Informe o turno que você estuda (M - Matutino, V - Vespertino, N - Noturno): m\n",
            "Bom Dia!\n"
          ]
        }
      ]
    },
    {
      "cell_type": "code",
      "source": [
        "#Faça um programa que peça uma nota, entre zero e dez.\n",
        "#Mostre uma mensagem caso o valor seja inválido e continue pedindo até que o usuário informe um valor válido.\n",
        "\n",
        "while True:\n",
        "    try:\n",
        "        nota = float(input('Informe uma nota de 0 a 10: '))\n",
        "\n",
        "        if 0 <= nota <= 10:\n",
        "            break  # Saia do loop se a nota for válida\n",
        "        else:\n",
        "            print('Valor inválido. A nota deve estar entre 0 e 10.')\n",
        "    except ValueError:\n",
        "        print('Entrada inválida. Por favor, insira um número.')\n",
        "\n",
        "print(f'Nota inserida: {nota:.1f}')  # Formatação para uma casa decimal, caso tenha\n",
        "\n",
        "\n"
      ],
      "metadata": {
        "colab": {
          "base_uri": "https://localhost:8080/"
        },
        "id": "uo1cE-Ibn8Z0",
        "outputId": "bd6d6612-8852-464b-c617-abaf6e0d4b9e"
      },
      "execution_count": null,
      "outputs": [
        {
          "output_type": "stream",
          "name": "stdout",
          "text": [
            "Informe uma nota de 0 a 10: -1\n",
            "Valor inválido. A nota deve estar entre 0 e 10.\n",
            "Informe uma nota de 0 a 10: 11\n",
            "Valor inválido. A nota deve estar entre 0 e 10.\n",
            "Informe uma nota de 0 a 10: no\n",
            "Entrada inválida. Por favor, insira um número.\n",
            "Informe uma nota de 0 a 10: 6\n",
            "Nota inserida: 6.0\n"
          ]
        }
      ]
    },
    {
      "cell_type": "code",
      "source": [
        "#Implemente um programa que classifique um aluno com base em sua pontuação em um exame.\n",
        "#O programa deverá solicitar uma nota de 0 a 10.\n",
        "#Se a pontuação for maior ou igual a 7, o aluno é aprovado; caso contrário, é reprovado.\n",
        "\n",
        "while True:\n",
        "  try:\n",
        "    nota = float(input('Informe a nota de 0 a 10: '))\n",
        "    if nota < 0 or nota > 10:\n",
        "      print('Valor inválido. A nota deve estar entre 0 e 10.')\n",
        "      continue\n",
        "\n",
        "    if nota > 7:\n",
        "      print('Aprovado')\n",
        "    else:\n",
        "      print('Reprovado.')\n",
        "    break\n",
        "  except ValueError:\n",
        "    print('Entrada inválida. Por favor, insira um número.')\n",
        "\n",
        "\n",
        "\n"
      ],
      "metadata": {
        "colab": {
          "base_uri": "https://localhost:8080/"
        },
        "id": "4QD1ZnWLp4zW",
        "outputId": "a448f61f-32d6-4207-c213-d882d323fed6"
      },
      "execution_count": null,
      "outputs": [
        {
          "output_type": "stream",
          "name": "stdout",
          "text": [
            "Informe a nota de 0 a 10: k\n",
            "Entrada inválida. Por favor, insira um número.\n",
            "Informe a nota de 0 a 10: 11\n",
            "Valor inválido. A nota deve estar entre 0 e 10.\n",
            "Informe a nota de 0 a 10: 0\n",
            "Reprovado.\n"
          ]
        }
      ]
    },
    {
      "cell_type": "code",
      "source": [
        "#Desenvolva um programa que solicite ao usuário os comprimentos dos três lados de um triângulo\n",
        "#Classifique-o como equilátero, isósceles ou escaleno.\n",
        "#equilátero: todos os lados com o mesmo valor\n",
        "#isósceles: dois lados com o mesmo valor\n",
        "#escaleno: todos os lados com medidas distintas.\n",
        "\n",
        "lado1 = int(input('Informe o comprimento do primeiro lado do trinângulo: '))\n",
        "lado2 = int(input('Informe o comprimento do segundo lado do trinângulo: '))\n",
        "lado3 = int(input('Informe o comprimento do terceiro lado do trinângulo: '))\n",
        "\n",
        "if lado1 == lado2 == lado3:\n",
        "  print('Equilátero. Todos os lados são iguais.')\n",
        "\n",
        "elif lado1 == lado2 != lado3:\n",
        "  print('Isósceles. Um dos lados é diferente.')\n",
        "\n",
        "else:\n",
        "  print('Escaleno. Todos os lados são diferentes.')\n"
      ],
      "metadata": {
        "id": "GIzfrp5o3G66",
        "colab": {
          "base_uri": "https://localhost:8080/"
        },
        "outputId": "e19cd0a0-9ded-4293-bc2a-0ffe4845a544"
      },
      "execution_count": null,
      "outputs": [
        {
          "output_type": "stream",
          "name": "stdout",
          "text": [
            "Informe o comprimento do primeiro lado do trinângulo: 2\n",
            "Informe o comprimento do segundo lado do trinângulo: 2\n",
            "Informe o comprimento do terceiro lado do trinângulo: 1\n",
            "Isósceles. Um dos lados é diferente.\n"
          ]
        }
      ]
    },
    {
      "cell_type": "code",
      "source": [
        "#Crie um programa que solicite ao usuário um login e uma senha.\n",
        "#O programa deve permitir o acesso apenas se o usuário for \"admin\" e a senha for \"admin123\", caso contrário imprima uma mensagem de erro.\n",
        "\n",
        "login = input('Insira o login: ')\n",
        "\n",
        "while login != \"admin\":\n",
        "  print('Login inválido. Favor digitar novamente.')\n",
        "  login = input('Insira o login: ')\n",
        "\n",
        "senha = input('Insira a senha: ')\n",
        "\n",
        "while senha != \"admin123\":\n",
        "  print('Senha inválida. Favor digitar novamente.')\n",
        "  senha = input('Insira a senha: ')\n",
        "\n",
        "print('Acesso liberado.')\n"
      ],
      "metadata": {
        "colab": {
          "base_uri": "https://localhost:8080/"
        },
        "id": "umf1q5wu7R8G",
        "outputId": "41cb631b-1aa9-47c8-d47a-7a433a9cc882"
      },
      "execution_count": null,
      "outputs": [
        {
          "output_type": "stream",
          "name": "stdout",
          "text": [
            "Insira o login: larissa\n",
            "Login inválido. Favor digitar novamente.\n",
            "Insira o login: julio\n",
            "Login inválido. Favor digitar novamente.\n",
            "Insira o login: admin\n",
            "Insira a senha: 123\n",
            "Senha inválida. Favor digitar novamente.\n",
            "Insira a senha: 123\n",
            "Senha inválida. Favor digitar novamente.\n",
            "Insira a senha: admin123\n",
            "Acesso liberado.\n"
          ]
        }
      ]
    },
    {
      "cell_type": "code",
      "source": [
        "#Desenvolver um programa que solicite a idade do usuário e identifique se ele é uma criança, um adolescente, adulto ou idoso.\n",
        "\n",
        "idade = int(input('Informe sua idade: '))\n",
        "\n",
        "if idade <= 12:\n",
        "  print('Criança')\n",
        "\n",
        "elif 13 <= idade <= 18:\n",
        "  print('Adolescente')\n",
        "\n",
        "elif 19 <= idade <= 59:\n",
        "  print('Adulto')\n",
        "\n",
        "else:\n",
        "  print('Idoso')"
      ],
      "metadata": {
        "colab": {
          "base_uri": "https://localhost:8080/"
        },
        "id": "owMUdnUcDhCH",
        "outputId": "fd258570-609f-4f61-af18-3dd5a00851a6"
      },
      "execution_count": null,
      "outputs": [
        {
          "output_type": "stream",
          "name": "stdout",
          "text": [
            "Informe sua idade: 60\n",
            "Idoso\n"
          ]
        }
      ]
    },
    {
      "cell_type": "code",
      "source": [
        "#Criar um programa em Python que solicite três números ao usuário,\n",
        "#utilize estruturas condicionais para determinar o maior entre eles e apresente o resultado.\n",
        "\n",
        "num1 = int(input('Informe o primeiro número: '))\n",
        "num2 = int(input('Informe o segundo número: '))\n",
        "num3 = int(input('Informe o terceiro número: '))\n",
        "\n",
        "if num1 >= num2 and num1 >= num3:\n",
        "  print(f'O maior número é o: {num1}')\n",
        "\n",
        "elif num2 >= num1 and num2 >= num3:\n",
        "  print(f'O maior número é o: {num2}')\n",
        "\n",
        "else:\n",
        "  print(f'O maior número é o: {num3}')"
      ],
      "metadata": {
        "colab": {
          "base_uri": "https://localhost:8080/"
        },
        "id": "Dtr24yagEIiN",
        "outputId": "b062dba8-bd1c-4b15-cd5b-f0453837b8e1"
      },
      "execution_count": null,
      "outputs": [
        {
          "output_type": "stream",
          "name": "stdout",
          "text": [
            "Informe o primeiro número: 2\n",
            "Informe o segundo número: 3\n",
            "Informe o terceiro número: 1\n",
            "O maior número é o: 3\n"
          ]
        }
      ]
    },
    {
      "cell_type": "code",
      "source": [
        "# O programa deve calcular e apresentar a quantidade de números pares e ímpares inseridos.\n",
        "#O processo de leitura deve ser encerrado quando o usuário informar o valor zero.\n",
        "#Certifique-se de incluir validações para garantir que apenas números positivos sejam considerados na contagem e cálculos.\n",
        "\n",
        "pares = 0\n",
        "impares = 0\n",
        "\n",
        "while True:\n",
        "    num = int(input('Insira um número positivo (ou zero para encerrar): '))\n",
        "\n",
        "    if num == 0:\n",
        "        break\n",
        "    elif num < 0:\n",
        "        print('Valor inválido, insira um número positivo.')\n",
        "    elif num % 2 == 0:\n",
        "        pares += 1\n",
        "    else:\n",
        "        impares += 1\n",
        "\n",
        "print('Repetição encerrada')\n",
        "print(f'A quantidade de números pares é {pares} e de ímpares é {impares}')\n",
        "\n"
      ],
      "metadata": {
        "colab": {
          "base_uri": "https://localhost:8080/"
        },
        "id": "PSHbxiW6FcNh",
        "outputId": "96067e16-45ff-4045-b177-248216e3e64b"
      },
      "execution_count": null,
      "outputs": [
        {
          "output_type": "stream",
          "name": "stdout",
          "text": [
            "Insira um número positivo (ou zero para encerrar): 1\n",
            "Insira um número positivo (ou zero para encerrar): -1\n",
            "Valor inválido, insira um número positivo.\n",
            "Insira um número positivo (ou zero para encerrar): 2\n",
            "Insira um número positivo (ou zero para encerrar): 10\n",
            "Insira um número positivo (ou zero para encerrar): 20\n",
            "Insira um número positivo (ou zero para encerrar): 35\n",
            "Insira um número positivo (ou zero para encerrar): 5\n",
            "Insira um número positivo (ou zero para encerrar): 0\n",
            "Repetição encerrada\n",
            "A quantidade de números pares é 3 e de ímpares é 3\n"
          ]
        }
      ]
    },
    {
      "cell_type": "code",
      "source": [
        "#Faça um programa que lê três números inteiros e os mostra em ordem crescente.\n",
        "\n",
        "num1 = int(input('Insira um número inteiro: '))\n",
        "num2 = int(input('Insira um segundo número: '))\n",
        "num3 = int(input('Insira um terceiro número: '))\n",
        "\n",
        "numeros = [num1, num2, num3]\n",
        "numeros.sort()\n",
        "\n",
        "print(f'Ordem crescente: {numeros[0]} {numeros[1]} {numeros[2]}')"
      ],
      "metadata": {
        "colab": {
          "base_uri": "https://localhost:8080/"
        },
        "id": "zzJyP25uJ0iI",
        "outputId": "d76ccae1-3e2f-44d3-f7e0-ebe2f006e8c3"
      },
      "execution_count": null,
      "outputs": [
        {
          "output_type": "stream",
          "name": "stdout",
          "text": [
            "Insira um número inteiro: 3\n",
            "Insira um segundo número: 2\n",
            "Insira um terceiro número: 1\n",
            "Ordem crescente: 1 2 3\n"
          ]
        }
      ]
    }
  ]
}